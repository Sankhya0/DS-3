{
 "cells": [
  {
   "cell_type": "code",
   "execution_count": 6,
   "metadata": {},
   "outputs": [
    {
     "data": {
      "image/png": "[encoded data removed]",
      "text/plain": [
       "<Figure size 432x288 with 1 Axes>"
      ]
     },
     "metadata": {
      "needs_background": "light"
     },
     "output_type": "display_data"
    }
   ],
   "source": [
    "import pandas as pd\n",
    "import numpy as np\n",
    "import matplotlib.pyplot as plt\n",
    "\n",
    "\n",
    "#question 1\n",
    "\n",
    "df = pd.read_csv(\"landslide_data3_miss.csv\") #reading the csv database with missing data\n",
    "orig_df = pd.read_csv(\"landslide_data3_original.csv\") #reading the original csv\n",
    "headers = list(df.columns.values) #getting all the headings as a list\n",
    "use = df.isnull().sum() # getting the summ of all the null values in a column\n",
    "plt.bar(headers,use[headers],width=0.6, color = \"red\" , edgecolor = \"black\") # plotting the data\n",
    "plt.xticks(rotation=90)\n",
    "plt.show()"
   ]
  },
  {
   "cell_type": "code",
   "execution_count": 11,
   "metadata": {},
   "outputs": [
    {
     "name": "stdout",
     "output_type": "stream",
     "text": [
      "The initial number of rows =  945\n",
      "The new number of rows =  926\n",
      "Therefore the number of rows removed =  19\n",
      "The initial number of rows after part(a) =  926\n",
      "The new number of rows =  891\n",
      "Therefore the number of rows further removed =  35\n"
     ]
    }
   ],
   "source": [
    "#Question 2\n",
    "#Part A\n",
    "print(\"The initial number of rows = \", df.shape[0])\n",
    "no_nan_df = df[df['stationid'].notnull()]\n",
    "print(\"The new number of rows = \", no_nan_df.shape[0])\n",
    "print(\"Therefore the number of rows removed = \", (df.shape[0] - no_nan_df.shape[0]))\n",
    "#Part B\n",
    "print(\"The initial number of rows after part(a) = \", no_nan_df.shape[0])\n",
    "new_df = no_nan_df[no_nan_df.isnull().sum(axis=1) < 3] #axis = 1 represents columns and axis = 0 represents rows\n",
    "print(\"The new number of rows = \", new_df.shape[0])\n",
    "print(\"Therefore the number of rows further removed = \", (no_nan_df.shape[0] - new_df.shape[0]))\n"
   ]
  },
  {
   "cell_type": "code",
   "execution_count": 8,
   "metadata": {},
   "outputs": [
    {
     "name": "stdout",
     "output_type": "stream",
     "text": [
      "Number of missing values after step 2:\n",
      "dates            0\n",
      "stationid        0\n",
      "temperature     34\n",
      "humidity        13\n",
      "pressure        41\n",
      "rain             6\n",
      "lightavgw/o0    15\n",
      "lightmax         1\n",
      "moisture         6\n",
      "dtype: int64\n",
      "Total number of missing values from the new database= 116\n"
     ]
    }
   ],
   "source": [
    "#Question 3\n",
    "print('Number of missing values after step 2:')\n",
    "print(new_df.isnull().sum())\n",
    "print('Total number of missing values from the new database=',new_df.isnull().sum().sum())"
   ]
  },
  {
   "cell_type": "code",
   "execution_count": 9,
   "metadata": {},
   "outputs": [
    {
     "name": "stdout",
     "output_type": "stream",
     "text": [
      "*****************************************************************************************************************************\n",
      "temperature\n",
      "*****************************************************************************************************************************\n",
      "The mean for temperature attribute in the database filled with mean is = 21.078545369738393\n",
      "The mean for temperature attribute in the original database is = 21.214888105820148\n",
      "\n",
      "The median for temperature attribute in the database filled with mean is = 21.8\n",
      "The median for temperature attribute in the original database is = 22.27273\n",
      "\n",
      "The mode for temperature attribute in the database filled with mean is = 21.078545369738354\n",
      "The mode for temperature attribute in the original database is = 12.72727\n",
      "\n",
      "The value of RMSE for the attribute temperature for the original vs database filled with mean =  3.6488620450608193\n",
      "*****************************************************************************************************************************\n",
      "\n",
      "*****************************************************************************************************************************\n",
      "humidity\n",
      "*****************************************************************************************************************************\n",
      "The mean for humidity attribute in the database filled with mean is = 83.26166477777787\n",
      "The mean for humidity attribute in the original database is = 83.47993155555568\n",
      "\n",
      "The median for humidity attribute in the database filled with mean is = 90.11905\n",
      "The median for humidity attribute in the original database is = 91.38095\n",
      "\n",
      "The mode for humidity attribute in the database filled with mean is = 99.0\n",
      "The mode for humidity attribute in the original database is = 99.0\n",
      "\n",
      "The value of RMSE for the attribute humidity for the original vs database filled with mean =  6.9586943366820835\n",
      "*****************************************************************************************************************************\n",
      "\n",
      "*****************************************************************************************************************************\n",
      "pressure\n",
      "*****************************************************************************************************************************\n",
      "The mean for pressure attribute in the database filled with mean is = 1009.2252377280965\n",
      "The mean for pressure attribute in the original database is = 1009.0087737986486\n",
      "\n",
      "The median for pressure attribute in the database filled with mean is = 1014.0707407407\n",
      "The median for pressure attribute in the original database is = 1014.6778321678\n",
      "\n",
      "The mode for pressure attribute in the database filled with mean is = 1009.2252377280963\n",
      "The mode for pressure attribute in the original database is = 789.3926923077\n",
      "\n",
      "The value of RMSE for the attribute pressure for the original vs database filled with mean =  21.205580274878614\n",
      "*****************************************************************************************************************************\n",
      "\n",
      "*****************************************************************************************************************************\n",
      "rain\n",
      "*****************************************************************************************************************************\n",
      "The mean for rain attribute in the database filled with mean is = 10942.726306504961\n",
      "The mean for rain attribute in the original database is = 10701.53837037037\n",
      "\n",
      "The median for rain attribute in the database filled with mean is = 24.75\n",
      "The median for rain attribute in the original database is = 18.0\n",
      "\n",
      "The mode for rain attribute in the database filled with mean is = 0.0\n",
      "The mode for rain attribute in the original database is = 0.0\n",
      "\n",
      "The value of RMSE for the attribute rain for the original vs database filled with mean =  10683.728774199606\n",
      "*****************************************************************************************************************************\n",
      "\n",
      "*****************************************************************************************************************************\n",
      "lightavgw/o0\n",
      "*****************************************************************************************************************************\n",
      "The mean for lightavgw/o0 attribute in the database filled with mean is = 4430.927906124722\n",
      "The mean for lightavgw/o0 attribute in the original database is = 4438.428453333335\n",
      "\n",
      "The median for lightavgw/o0 attribute in the database filled with mean is = 1911.2338\n",
      "The median for lightavgw/o0 attribute in the original database is = 1656.88\n",
      "\n",
      "The mode for lightavgw/o0 attribute in the database filled with mean is = 4488.9103\n",
      "The mode for lightavgw/o0 attribute in the original database is = 4488.9103\n",
      "\n",
      "The value of RMSE for the attribute lightavgw/o0 for the original vs database filled with mean =  2043.3496102369209\n",
      "*****************************************************************************************************************************\n",
      "\n",
      "*****************************************************************************************************************************\n",
      "lightmax\n",
      "*****************************************************************************************************************************\n",
      "The mean for lightmax attribute in the database filled with mean is = 21650.163019693675\n",
      "The mean for lightmax attribute in the original database is = 21788.62328042328\n",
      "\n",
      "The median for lightmax attribute in the database filled with mean is = 7544.0\n",
      "The median for lightmax attribute in the original database is = 6634.0\n",
      "\n",
      "The mode for lightmax attribute in the database filled with mean is = 4000.0\n",
      "The mode for lightmax attribute in the original database is = 4000\n",
      "\n",
      "The value of RMSE for the attribute lightmax for the original vs database filled with mean =  9237.836980306347\n",
      "*****************************************************************************************************************************\n",
      "\n",
      "*****************************************************************************************************************************\n",
      "moisture\n",
      "*****************************************************************************************************************************\n",
      "The mean for moisture attribute in the database filled with mean is = 32.67196838074397\n",
      "The mean for moisture attribute in the original database is = 32.38605259259258\n",
      "\n",
      "The median for moisture attribute in the database filled with mean is = 17.7234\n",
      "The median for moisture attribute in the original database is = 16.7042\n",
      "\n",
      "The mode for moisture attribute in the database filled with mean is = 0.0\n",
      "The mode for moisture attribute in the original database is = 0.0\n",
      "\n",
      "The value of RMSE for the attribute moisture for the original vs database filled with mean =  37.02079114849376\n",
      "*****************************************************************************************************************************\n",
      "\n"
     ]
    },
    {
     "data": {
      "image/png": "[encoded data removed]",
      "text/plain": [
       "<Figure size 432x288 with 1 Axes>"
      ]
     },
     "metadata": {
      "needs_background": "light"
     },
     "output_type": "display_data"
    },
    {
     "name": "stdout",
     "output_type": "stream",
     "text": [
      "*****************************************************************************************************************************\n",
      "temperature\n",
      "*****************************************************************************************************************************\n",
      "The mean for temperature attribute in the database filled using interpolation is = 21.196222460317497\n",
      "The mean for temperature attribute in the original database is = 21.214888105820148\n",
      "\n",
      "The median for temperature attribute in the database filled using interpolation is = 22.16921\n",
      "The median for temperature attribute in the original database is = 22.27273\n",
      "\n",
      "The mode for temperature attribute in the database filled using interpolation is = 12.72727\n",
      "The mode for temperature attribute in the original database is = 12.72727\n",
      "\n",
      "The value of RMSE for the attribute temperature for the original vs database filled using interpolation =  1.4607948810769855\n",
      "*****************************************************************************************************************************\n",
      "\n",
      "*****************************************************************************************************************************\n",
      "humidity\n",
      "*****************************************************************************************************************************\n",
      "The mean for humidity attribute in the database filled using interpolation is = 83.53824531216944\n",
      "The mean for humidity attribute in the original database is = 83.47993155555568\n",
      "\n",
      "The median for humidity attribute in the database filled using interpolation is = 91.38095\n",
      "The median for humidity attribute in the original database is = 91.38095\n",
      "\n",
      "The mode for humidity attribute in the database filled using interpolation is = 99.0\n",
      "The mode for humidity attribute in the original database is = 99.0\n",
      "\n",
      "The value of RMSE for the attribute humidity for the original vs database filled using interpolation =  6.323695638280403\n",
      "*****************************************************************************************************************************\n",
      "\n",
      "*****************************************************************************************************************************\n",
      "pressure\n",
      "*****************************************************************************************************************************\n",
      "The mean for pressure attribute in the database filled using interpolation is = 1009.2647580165462\n",
      "The mean for pressure attribute in the original database is = 1009.0087737986486\n",
      "\n",
      "The median for pressure attribute in the database filled using interpolation is = 1014.6778321678\n",
      "The median for pressure attribute in the original database is = 1014.6778321678\n",
      "\n",
      "The mode for pressure attribute in the database filled using interpolation is = 789.3926923077\n",
      "The mode for pressure attribute in the original database is = 789.3926923077\n",
      "\n",
      "The value of RMSE for the attribute pressure for the original vs database filled using interpolation =  6.1798194935351765\n",
      "*****************************************************************************************************************************\n",
      "\n",
      "*****************************************************************************************************************************\n",
      "rain\n",
      "*****************************************************************************************************************************\n",
      "The mean for rain attribute in the database filled using interpolation is = 10651.63837037037\n",
      "The mean for rain attribute in the original database is = 10701.53837037037\n",
      "\n",
      "The median for rain attribute in the database filled using interpolation is = 22.5\n",
      "The median for rain attribute in the original database is = 18.0\n",
      "\n",
      "The mode for rain attribute in the database filled using interpolation is = 0.0\n",
      "The mode for rain attribute in the original database is = 0.0\n",
      "\n",
      "The value of RMSE for the attribute rain for the original vs database filled using interpolation =  233.41558632083678\n",
      "*****************************************************************************************************************************\n",
      "\n",
      "*****************************************************************************************************************************\n",
      "lightavgw/o0\n",
      "*****************************************************************************************************************************\n",
      "The mean for lightavgw/o0 attribute in the database filled using interpolation is = 4486.340771904769\n",
      "The mean for lightavgw/o0 attribute in the original database is = 4438.428453333335\n",
      "\n",
      "The median for lightavgw/o0 attribute in the database filled using interpolation is = 1623.4941\n",
      "The median for lightavgw/o0 attribute in the original database is = 1656.88\n",
      "\n",
      "The mode for lightavgw/o0 attribute in the database filled using interpolation is = 4488.9103\n",
      "The mode for lightavgw/o0 attribute in the original database is = 4488.9103\n",
      "\n",
      "The value of RMSE for the attribute lightavgw/o0 for the original vs database filled using interpolation =  7328.810637078913\n",
      "*****************************************************************************************************************************\n",
      "\n",
      "*****************************************************************************************************************************\n",
      "lightmax\n",
      "*****************************************************************************************************************************\n",
      "The mean for lightmax attribute in the database filled using interpolation is = 21517.191005291006\n",
      "The mean for lightmax attribute in the original database is = 21788.62328042328\n",
      "\n",
      "The median for lightmax attribute in the database filled using interpolation is = 6569.0\n",
      "The median for lightmax attribute in the original database is = 6634.0\n",
      "\n",
      "The mode for lightmax attribute in the database filled using interpolation is = 4000.0\n",
      "The mode for lightmax attribute in the original database is = 4000\n",
      "\n",
      "The value of RMSE for the attribute lightmax for the original vs database filled using interpolation =  0.0\n",
      "*****************************************************************************************************************************\n",
      "\n",
      "*****************************************************************************************************************************\n",
      "moisture\n",
      "*****************************************************************************************************************************\n",
      "The mean for moisture attribute in the database filled using interpolation is = 32.327431269841256\n",
      "The mean for moisture attribute in the original database is = 32.38605259259258\n",
      "\n",
      "The median for moisture attribute in the database filled using interpolation is = 16.3066\n",
      "The median for moisture attribute in the original database is = 16.7042\n",
      "\n",
      "The mode for moisture attribute in the database filled using interpolation is = 0.0\n",
      "The mode for moisture attribute in the original database is = 0.0\n",
      "\n",
      "The value of RMSE for the attribute moisture for the original vs database filled using interpolation =  15.429733604027321\n",
      "*****************************************************************************************************************************\n",
      "\n"
     ]
    },
    {
     "data": {
      "image/png": "[encoded data removed]",
      "text/plain": [
       "<Figure size 432x288 with 1 Axes>"
      ]
     },
     "metadata": {
      "needs_background": "light"
     },
     "output_type": "display_data"
    }
   ],
   "source": [
    "#Question 4\n",
    "index=[] # we will store all the rows with NaN for an attribute in this list\n",
    "\n",
    "for i in range(len(headers)):\n",
    "    if (i==0 or i==1):\n",
    "        continue\n",
    "    else:\n",
    "        a = new_df[new_df[headers[i]].isnull()].index\n",
    "        index.append(a)\n",
    "    \n",
    "def rmse_calc(list1,list2,a):\n",
    "    summ=0\n",
    "    for i in range(len(index[a])):\n",
    "        summ=summ+((list1[index[a][i]]-list2[index[a][i]])**2)\n",
    "    rmse=summ/len(index[a])\n",
    "    rmse=rmse**0.5\n",
    "    return rmse\n",
    "\n",
    "\n",
    "#---------Using replacement by mean------------#\n",
    "\n",
    "new_df_mean = df.copy()\n",
    "\n",
    "for i in range(len(headers)):\n",
    "    if (i==0 or i==1):\n",
    "        continue\n",
    "    else:\n",
    "        new_df_mean[headers[i]].fillna(new_df_mean[headers[i]].mean(),inplace=True)\n",
    "\n",
    "xvalmean = []\n",
    "yvalmean = []\n",
    "        \n",
    "\n",
    "for i in range(len(headers)):\n",
    "    if (i==0 or i==1):\n",
    "        continue\n",
    "    else:\n",
    "        print(\"*****************************************************************************************************************************\")\n",
    "        print(headers[i])\n",
    "        print(\"*****************************************************************************************************************************\")\n",
    "        print(\"The mean for \" + headers[i] + \" attribute in the database filled with mean is = \" + str(new_df_mean[headers[i]].mean()))\n",
    "        print(\"The mean for \" + headers[i] + \" attribute in the original database is = \" + str(orig_df[headers[i]].mean()))\n",
    "        print()\n",
    "        print(\"The median for \" + headers[i] + \" attribute in the database filled with mean is = \" + str(new_df_mean[headers[i]].median()))\n",
    "        print(\"The median for \" + headers[i] + \" attribute in the original database is = \" + str(orig_df[headers[i]].median()))\n",
    "        print()\n",
    "        print(\"The mode for \" + headers[i] + \" attribute in the database filled with mean is = \" + str(new_df_mean[headers[i]].mode()[0]))\n",
    "        print(\"The mode for \" + headers[i] + \" attribute in the original database is = \" + str(orig_df[headers[i]].mode()[0]))\n",
    "        print()\n",
    "        rms1=rmse_calc(orig_df[headers[i]],new_df_mean[headers[i]],i-2)\n",
    "        print(\"The value of RMSE for the attribute \"+ headers[i] + \" for the original vs database filled with mean = \",rms1)\n",
    "        xvalmean.append(headers[i])\n",
    "        yvalmean.append(rms1)\n",
    "        print(\"*****************************************************************************************************************************\")\n",
    "        print()\n",
    "\n",
    "plt.bar(xvalmean,yvalmean, edgecolor = 'red')\n",
    "plt.xticks(rotation = 90,size = 10)\n",
    "plt.show()\n",
    "#-------Using linear interpolation-------------#\n",
    "\n",
    "new_df_inter = df.copy()\n",
    "\n",
    "for i in range(len(headers)):\n",
    "    if (i==0 or i==1):\n",
    "        continue\n",
    "    else:\n",
    "        new_df_inter[headers[i]].interpolate(method = 'linear',limit_direction = 'forward',inplace = True)\n",
    "\n",
    "xvalinter = []\n",
    "yvalinter = []\n",
    "        \n",
    "for i in range(len(headers)):\n",
    "    if (i==0 or i==1):\n",
    "        continue\n",
    "    else:\n",
    "        print(\"*****************************************************************************************************************************\")\n",
    "        print(headers[i])\n",
    "        print(\"*****************************************************************************************************************************\")\n",
    "        print(\"The mean for \" + headers[i] + \" attribute in the database filled using interpolation is = \" + str(new_df_inter[headers[i]].mean()))\n",
    "        print(\"The mean for \" + headers[i] + \" attribute in the original database is = \" + str(orig_df[headers[i]].mean()))\n",
    "        print()\n",
    "        print(\"The median for \" + headers[i] + \" attribute in the database filled using interpolation is = \" + str(new_df_inter[headers[i]].median()))\n",
    "        print(\"The median for \" + headers[i] + \" attribute in the original database is = \" + str(orig_df[headers[i]].median()))\n",
    "        print()\n",
    "        print(\"The mode for \" + headers[i] + \" attribute in the database filled using interpolation is = \" + str(new_df_inter[headers[i]].mode()[0]))\n",
    "        print(\"The mode for \" + headers[i] + \" attribute in the original database is = \" + str(orig_df[headers[i]].mode()[0]))\n",
    "        print()\n",
    "        rms2 = rmse_calc(orig_df[headers[i]],new_df_inter[headers[i]],i-2)\n",
    "        print(\"The value of RMSE for the attribute \"+ headers[i] + \" for the original vs database filled using interpolation = \",rms2)\n",
    "        xvalinter.append(headers[i])\n",
    "        yvalinter.append(rms2)\n",
    "        print(\"*****************************************************************************************************************************\")\n",
    "        print()\n",
    "        \n",
    "plt.bar(xvalinter,yvalinter,color = \"red\" , edgecolor = \"black\")\n",
    "plt.xticks(rotation = 90,size = 10)\n",
    "plt.show()"
   ]
  },
  {
   "cell_type": "code",
   "execution_count": 10,
   "metadata": {},
   "outputs": [
    {
     "name": "stdout",
     "output_type": "stream",
     "text": [
      "*****************************************************************************************************************************\n",
      "temperature\n",
      "The iqr for the attibute temperature = 6.101980000000001\n",
      "The median for the attibute temperature = 22.16921\n"
     ]
    },
    {
     "data": {
      "image/png": "[encoded data removed]",
      "text/plain": [
       "<Figure size 432x288 with 1 Axes>"
      ]
     },
     "metadata": {
      "needs_background": "light"
     },
     "output_type": "display_data"
    },
    {
     "name": "stdout",
     "output_type": "stream",
     "text": [
      "The number of outliers = 10\n",
      "The outliers are: \n",
      "[7.6729, 7.6729, 7.6729, 7.6729, 7.6729, 7.6729, 7.6729, 7.6729, 7.6729, 7.6729]\n",
      "\n",
      "*****************************************************************************************************************************\n",
      "*****************************************************************************************************************************\n",
      "Rain\n",
      "The iqr for the attibute rain = 987.75\n",
      "The median for the attibute rain = 22.5\n"
     ]
    },
    {
     "data": {
      "image/png": "[encoded data removed]",
      "text/plain": [
       "<Figure size 432x288 with 1 Axes>"
      ]
     },
     "metadata": {
      "needs_background": "light"
     },
     "output_type": "display_data"
    },
    {
     "name": "stdout",
     "output_type": "stream",
     "text": [
      "The number of outliers = 185\n",
      "The outliers are: \n",
      "[13583.25, 6791.625, 15459.75, 14001.75, 16571.25, 13666.5, 59982.75, 80000.0, 75048.75, 80000.0, 80000.0, 80000.0, 80000.0, 3930.5, 36636.75, 40789.0, 2470.5, 63256.5, 54616.5, 50172.75, 37928.25, 26178.75, 3138.75, 3449.25, 18884.25, 9765.0, 18976.5, 30393.0, 2814.75, 25697.25, 80000.0, 82037.25, 56319.75, 71968.5, 80000.0, 80000.0, 50242.5, 80000.0, 80000.0, 80000.0, 80000.0, 80000.0, 80000.0, 80000.0, 80000.0, 80000.0, 80000.0, 80000.0, 80000.0, 80000.0, 80000.0, 80000.0, 80000.0, 80000.0, 80000.0, 80000.0, 80000.0, 80000.0, 80000.0, 80000.0, 80000.0, 80000.0, 80000.0, 80000.0, 80000.0, 80000.0, 80000.0, 80000.0, 60675.75, 41463.0, 22250.25, 2637.0, 80000.0, 80000.0, 80000.0, 80000.0, 80000.0, 80000.0, 80000.0, 37392.75, 49725.0, 80000.0, 80000.0, 71154.0, 80000.0, 80000.0, 12854.25, 34879.5, 4610.25, 6210.0, 10557.0, 3451.5, 3312.0, 18285.75, 3613.5, 2893.5, 23474.25, 14042.25, 3647.25, 5877.0, 10062.0, 17997.75, 29517.75, 32514.75, 13943.25, 4212.0, 4691.25, 7519.5, 11112.75, 2821.5, 33941.25, 43643.25, 20664.0, 11144.25, 18587.25, 18373.5, 15646.5, 12915.0, 49916.25, 24522.75, 75105.0, 73417.5, 70580.25, 78126.75, 56097.0, 6061.5, 38355.75, 55509.75, 43974.0, 6747.75, 54843.75, 59377.5, 58320.0, 60963.75, 63342.0, 67378.5, 70929.0, 73158.75, 71367.75, 73838.25, 46732.5, 48429.0, 67830.75, 75447.0, 74646.0, 75402.0, 75723.75, 74254.5, 75201.75, 77044.5, 74472.75, 77503.5, 78180.75, 79915.5, 80583.75, 80482.5, 79337.25, 79317.0, 70823.25, 75638.25, 73752.75, 65893.5, 72774.0, 7773.75, 12037.5, 79839.0, 78633.0, 78779.25, 76662.0, 67252.5, 74913.75, 4869.0, 41618.25, 58443.75, 74173.5, 72445.5, 65873.25, 67675.5, 61989.75, 71237.25, 73577.25, 65301.75, 73534.5, 72283.5, 71799.75]\n",
      "\n",
      "*****************************************************************************************************************************\n",
      "-----------------Question 5(b)-----------------\n"
     ]
    },
    {
     "data": {
      "image/png": "[encoded data removed]",
      "text/plain": [
       "<Figure size 432x288 with 1 Axes>"
      ]
     },
     "metadata": {
      "needs_background": "light"
     },
     "output_type": "display_data"
    },
    {
     "data": {
      "image/png": "[encoded data removed]",
      "text/plain": [
       "<Figure size 432x288 with 1 Axes>"
      ]
     },
     "metadata": {
      "needs_background": "light"
     },
     "output_type": "display_data"
    }
   ],
   "source": [
    "#Question 5\n",
    "#Part A\n",
    "\n",
    "rain = new_df_inter['rain'].tolist()\n",
    "temp = new_df_inter['temperature'].tolist()\n",
    "\n",
    "def qu5(list,istr):\n",
    "    q1 = np.percentile(list,25)\n",
    "    q2 = np.percentile(list,50)\n",
    "    q3 = np.percentile(list,75)\n",
    "    iqr = q3-q1\n",
    "    print(\"The iqr for the attibute \" + istr + \" = \" + str(iqr))\n",
    "    print(\"The median for the attibute \" + istr + \" = \" + str(q2))\n",
    "    high = q3 + (1.5*iqr)\n",
    "    low = q1 - (1.5*iqr)\n",
    "    out_in = []\n",
    "    out_val =[]\n",
    "    for i in range (len(list)):\n",
    "        if (list[i]>high or list[i]<low):\n",
    "            out_in.append(i)\n",
    "            out_val.append(list[i])\n",
    "    plt.boxplot(list,notch = \"True\" , patch_artist= \"True\")\n",
    "    plt.title (\"Boxplot of \"+istr)\n",
    "    plt.xlabel(istr)\n",
    "    plt.show()\n",
    "    print(\"The number of outliers = \"+ str(len(out_in)))\n",
    "    print(\"The outliers are: \")\n",
    "    print(out_val)\n",
    "\n",
    "    \n",
    "print(\"*****************************************************************************************************************************\")\n",
    "print(\"temperature\")\n",
    "qu5(temp,\"temperature\")\n",
    "print()\n",
    "print(\"*****************************************************************************************************************************\")\n",
    "\n",
    "print(\"*****************************************************************************************************************************\")\n",
    "print(\"Rain\")\n",
    "qu5(rain,\"rain\")\n",
    "print()\n",
    "print(\"*****************************************************************************************************************************\")\n",
    "\n",
    "\n",
    "median_r=new_df_inter[\"rain\"].median()\n",
    "median_t=new_df_inter[\"temperature\"].median()\n",
    "\n",
    "print(\"-----------------Question 5(b)-----------------\")\n",
    "\n",
    "new_df_inter[\"rain\"] = np.where(new_df_inter[\"rain\"] >75, median_r,new_df_inter['rain'])\n",
    "new_df_inter[\"temperature\"] = np.where(new_df_inter[\"temperature\"] >75, median_t,new_df_inter['temperature'])\n",
    "\n",
    "plt.boxplot(new_df_inter[\"temperature\"],notch = \"True\" , patch_artist= \"True\")\n",
    "plt.title(\"Box plot of temperature after changing outliers with median\")\n",
    "plt.xlabel(\"temperature\")\n",
    "plt.show()\n",
    "plt.boxplot(new_df_inter[\"rain\"],notch = \"True\" , patch_artist= \"True\")\n",
    "plt.title(\"Box plot of rain after changing outliers with median\")\n",
    "plt.xlabel(\"rain\")\n",
    "plt.show()\n"
   ]
  }
 ],
 "metadata": {
  "kernelspec": {
   "display_name": "Python 3.9.7 ('base')",
   "language": "python",
   "name": "python3"
  },
  "language_info": {
   "codemirror_mode": {
    "name": "ipython",
    "version": 3
   },
   "file_extension": ".py",
   "mimetype": "text/x-python",
   "name": "python",
   "nbconvert_exporter": "python",
   "pygments_lexer": "ipython3",
   "version": "3.9.7"
  },
  "orig_nbformat": 4,
  "vscode": {
   "interpreter": {
    "hash": "0fec9b5afb6b6d66e39538aa6e4d3df38d64b5e6e816cd84681faade8907a26a"
   }
  }
 },
 "nbformat": 4,
 "nbformat_minor": 2
}
